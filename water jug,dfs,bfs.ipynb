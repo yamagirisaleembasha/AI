{
 "cells": [
  {
   "cell_type": "code",
   "execution_count": 4,
   "id": "4d65a06c",
   "metadata": {},
   "outputs": [],
   "source": [
    "def dfs(graph,node):\n",
    "    visited=[]\n",
    "    queue=[]\n",
    "    visited.append(node)\n",
    "    queue.append(node)\n",
    "    while queue:\n",
    "        t=queue.pop()\n",
    "        print(t, end=\" \")        \n",
    "        for neighbor in graph[t]:\n",
    "            if neighbor not in visited:\n",
    "                visited.append(neighbor)\n",
    "                queue.append(neighbor)    "
   ]
  },
  {
   "cell_type": "code",
   "execution_count": 8,
   "id": "9be0dfad",
   "metadata": {},
   "outputs": [
    {
     "name": "stdout",
     "output_type": "stream",
     "text": [
      "0 2 4 5 3 1 "
     ]
    }
   ],
   "source": [
    "graph={0:[1,2],1:[3],2:[3,4],3:[4],4:[5],5:[]}\n",
    "dfs(graph,0)"
   ]
  },
  {
   "cell_type": "code",
   "execution_count": null,
   "id": "4c20b386",
   "metadata": {},
   "outputs": [],
   "source": [
    "## Best first search\n",
    "\n",
    "def second(x):\n",
    "    return x[1]\n",
    "\n",
    "def best_first(graph,node,goal):\n",
    "    visited=[]\n",
    "    queue=[]\n",
    "    visited.append((node,h[node]))\n",
    "    queue.append((node,h[node]))\n",
    "    \n",
    "    while queue:\n",
    "        t=queue.pop(0)\n",
    "        print(t, end=\" \")\n",
    "        if t[0]==goal:\n",
    "            print(\"found\")\n",
    "            return\n",
    "        for neighbor in graph[t[0]]:\n",
    "            if (neighbor,h[neighbor]) not in visited:\n",
    "                visited.append((neighbor,h[neighbor]))\n",
    "                queue.append((neighbor,h[neighbor]))\n",
    "        \n",
    "        queue.sort(key=second)     \n",
    "                \n",
    "if __name__ =='__main__':\n",
    "    #graph={ 0:[1,2], 1:[2], 2:[0,3],3:[3]}\n",
    "    #bfs(graph,2)\n",
    "    graph={1:[2,3,4],2:[5],3:[4,5,6],4:[6],5:[7],6:[8],8:[]}\n",
    "    h={1:40,2:32,3:25,4:35,5:19,6:17,7:10,8:0}\n",
    "    best_first(graph,1,8)"
   ]
  },
  {
   "cell_type": "code",
   "execution_count": 9,
   "id": "e71beaa1",
   "metadata": {},
   "outputs": [],
   "source": [
    "def empty():\n",
    "    return 0\n",
    "\n",
    "\n",
    "def X_pour_Y(x,y):\n",
    "    if(y+x < y_cap):\n",
    "        y += x\n",
    "        x = 0\n",
    "    else: \n",
    "        x = x - (y_cap - y)\n",
    "        y = y_cap\n",
    "        \n",
    "    return x,y\n",
    "\n",
    "def Y_pour_X(x,y):\n",
    "    if(x+y < x_cap):\n",
    "        x+= y\n",
    "        y = 0\n",
    "    else:\n",
    "        y = y - (x_cap - x)\n",
    "        x = x_cap\n",
    "    return x,y\n",
    "\n",
    "def X_fill():\n",
    "    return x_cap\n",
    "\n",
    "def y_fill():\n",
    "    return y_cap"
   ]
  },
  {
   "cell_type": "code",
   "execution_count": 10,
   "id": "9300c6ad",
   "metadata": {},
   "outputs": [
    {
     "name": "stdout",
     "output_type": "stream",
     "text": [
      "Cap of JUG x: 5\n",
      "Cap of JUG y: 3\n",
      "Target Binx\n",
      "Amount to be filled2\n",
      ">>\n",
      "X-filled 5\n",
      "X poured to Y and filled 2\n",
      "2\n"
     ]
    }
   ],
   "source": [
    "x_cap : int = int(input(\"Cap of JUG x: \"))\n",
    "y_cap : int = int(input(\"Cap of JUG y: \"))\n",
    "\n",
    "cap ={\n",
    "    \"x\":x_cap,\n",
    "    \"y\":y_cap\n",
    "}\n",
    "\n",
    "dict = {\n",
    "    \"x\":0,\n",
    "    \"y\":0\n",
    "}\n",
    "    \n",
    "targetBin = input(\"Target Bin\")\n",
    "amt : int = int(input(\"Amount to be filled\"))\n",
    "\n",
    "def main():\n",
    "\n",
    "    if targetBin not in dict:\n",
    "        print(\"$$\")\n",
    "        return \n",
    "    if amt > cap[targetBin] : \n",
    "        print(\"**\")\n",
    "        return\n",
    "    while(dict[targetBin]!=amt):\n",
    "        print(\">>\")\n",
    "        if(dict[targetBin] == 0):\n",
    "            if(targetBin == \"x\"):\n",
    "                dict[\"x\"] = X_fill()\n",
    "                print(\"X-filled\",dict['x'])\n",
    "            else: \n",
    "                dict[\"y\"] = Y_fill()\n",
    "                print(\"Y-filled\",dict['y'])\n",
    "                \n",
    "        \n",
    "        if(dict[targetBin]>amt):\n",
    "            if(targetBin == \"x\"):\n",
    "                if(dict[\"x\"]-cap[\"y\"]+dict[\"y\"] == amt):\n",
    "                    dict[\"x\"],dict[\"y\"] = X_pour_Y(dict[\"x\"],dict[\"y\"])\n",
    "                    print(\"X poured to Y and filled\",dict[\"x\"])\n",
    "                    break\n",
    "                elif(dict[\"x\"]-cap['y']-dict[\"y\"]>amt):\n",
    "                    dict[\"y\"] = empty()\n",
    "                    print(\"Y emptied\")\n",
    "                else:\n",
    "                    print(\"Before\",dict[\"x\"],dict[\"y\"])\n",
    "                    dict[\"x\"],dict[\"y\"] = X_pour_Y(dict[\"x\"],dict[\"y\"])\n",
    "                    print(\"X poured to Y\",dict[\"x\"],dict[\"y\"])\n",
    "                #             else:\n",
    "#                 if(dict[\"y\"]-cap['x']+dict[\"x\"] == amt):\n",
    "#                     dict[\"x\"],dict[\"y\"] = Y_pour_X(dict[\"x\"],dict[\"y\"])\n",
    "#                     print(\"Y poured to X and filled\",dict[\"y\"])\n",
    "#                     break\n",
    "                \n",
    "#                 elif(dict[\"y\"]-cap['x']-dict[\"x\"]>amt):\n",
    "#                     dict[\"x\"] = empty()\n",
    "#                     print(\"X emptied\")\n",
    "\n",
    "        if(dict[targetBin] < amt):\n",
    "            if(targetBin == \"x\"):\n",
    "                if(dict[\"y\"] == y_cap):\n",
    "                    dict['y'] = empty()\n",
    "                    print(\"Y_emptied \",dict['x'],dict['y'])\n",
    "                    dict['x'],dict['y'] = X_pour_Y(dict['x'],dict['y'])\n",
    "                    print(\"X poured to Y\",dict[\"x\"],dict[\"y\"])\n",
    "\n",
    "        \n",
    "        print(\"<<\",dict[\"x\"],dict[\"y\"])\n",
    "    \n",
    "    \n",
    "main()\n",
    "print(dict[\"x\"])"
   ]
  },
  {
   "cell_type": "code",
   "execution_count": 12,
   "id": "238bb663",
   "metadata": {},
   "outputs": [
    {
     "name": "stdout",
     "output_type": "stream",
     "text": [
      "2 3\n"
     ]
    }
   ],
   "source": [
    "x,y = 5,0\n",
    "\n",
    "x,y = X_pour_Y(x,y)\n",
    "\n",
    "print(x,y)\n"
   ]
  }
 ],
 "metadata": {
  "kernelspec": {
   "display_name": "Python 3 (ipykernel)",
   "language": "python",
   "name": "python3"
  },
  "language_info": {
   "codemirror_mode": {
    "name": "ipython",
    "version": 3
   },
   "file_extension": ".py",
   "mimetype": "text/x-python",
   "name": "python",
   "nbconvert_exporter": "python",
   "pygments_lexer": "ipython3",
   "version": "3.9.7"
  }
 },
 "nbformat": 4,
 "nbformat_minor": 5
}
