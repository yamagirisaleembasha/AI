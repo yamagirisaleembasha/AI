{
 "cells": [
  {
   "cell_type": "code",
   "execution_count": 43,
   "id": "ed811eed",
   "metadata": {},
   "outputs": [],
   "source": [
    "graph={'A':[\"B\",'C','D'],'B':['E','F'],'C':['F','G'],'E':['H','I'],'F':['J']}"
   ]
  },
  {
   "cell_type": "code",
   "execution_count": 44,
   "id": "30a690b9",
   "metadata": {},
   "outputs": [
    {
     "name": "stdout",
     "output_type": "stream",
     "text": [
      "['A'] []\n",
      "['B', 'C', 'D'] ['A']\n",
      "['C', 'D', 'E', 'F'] ['B', 'A']\n",
      "['D', 'E', 'F', 'G'] ['C', 'B', 'A']\n",
      "['E', 'F', 'G'] ['D', 'C', 'B', 'A']\n",
      "['F', 'G', 'H', 'I'] ['E', 'D', 'C', 'B', 'A']\n",
      "['G', 'H', 'I', 'J'] ['F', 'E', 'D', 'C', 'B', 'A']\n",
      "['H', 'I', 'J'] ['G', 'F', 'E', 'D', 'C', 'B', 'A']\n"
     ]
    }
   ],
   "source": [
    "def bfs(graph,start,goal):\n",
    "    openlist=[start]\n",
    "    closed=[]\n",
    "    print(openlist,closed)\n",
    "    while(goal not in closed):\n",
    "        x=openlist.pop(0)\n",
    "        closed.insert(0,x)\n",
    "        if x in graph.keys():\n",
    "            for j in graph[x]:\n",
    "                if j not in openlist:\n",
    "                    openlist.append(j)\n",
    "        print(openlist,closed)\n",
    "        \n",
    "bfs(graph,'A',\"G\")"
   ]
  },
  {
   "cell_type": "code",
   "execution_count": 46,
   "id": "d71b4757",
   "metadata": {},
   "outputs": [
    {
     "name": "stdout",
     "output_type": "stream",
     "text": [
      "['A'] []\n",
      "['B', 'C', 'D'] ['A']\n",
      "['E', 'F', 'C', 'D'] ['B', 'A']\n",
      "['H', 'I', 'F', 'C', 'D'] ['E', 'B', 'A']\n",
      "['I', 'F', 'C', 'D'] ['H', 'E', 'B', 'A']\n",
      "['F', 'C', 'D'] ['I', 'H', 'E', 'B', 'A']\n",
      "['J', 'C', 'D'] ['F', 'I', 'H', 'E', 'B', 'A']\n",
      "['C', 'D'] ['J', 'F', 'I', 'H', 'E', 'B', 'A']\n",
      "['G', 'D'] ['C', 'J', 'F', 'I', 'H', 'E', 'B', 'A']\n",
      "['D'] ['G', 'C', 'J', 'F', 'I', 'H', 'E', 'B', 'A']\n"
     ]
    }
   ],
   "source": [
    "def dfs(graph,start,goal):\n",
    "    openlist=[start]\n",
    "    closed=[]\n",
    "    print(openlist,closed)\n",
    "    while(goal not in closed):\n",
    "        x=openlist.pop(0)\n",
    "        closed.insert(0,x)\n",
    "        if x in graph.keys():\n",
    "            temp=graph[x]\n",
    "            for i in closed:\n",
    "                if i in temp:\n",
    "                    temp.remove(i)\n",
    "            openlist=temp+openlist\n",
    "        print(openlist,closed)\n",
    "\n",
    "dfs(graph,'A',\"G\")"
   ]
  }
 ],
 "metadata": {
  "kernelspec": {
   "display_name": "Python 3 (ipykernel)",
   "language": "python",
   "name": "python3"
  },
  "language_info": {
   "codemirror_mode": {
    "name": "ipython",
    "version": 3
   },
   "file_extension": ".py",
   "mimetype": "text/x-python",
   "name": "python",
   "nbconvert_exporter": "python",
   "pygments_lexer": "ipython3",
   "version": "3.9.7"
  }
 },
 "nbformat": 4,
 "nbformat_minor": 5
}
