{
 "cells": [
  {
   "cell_type": "code",
   "execution_count": 5,
   "id": "4414d6d3",
   "metadata": {},
   "outputs": [
    {
     "name": "stdout",
     "output_type": "stream",
     "text": [
      "capacity of jug1: 4\n",
      "capacity of jug2: 3\n",
      "amount of water to be measured: 2\n"
     ]
    }
   ],
   "source": [
    "j1=int(input(\"capacity of jug1: \"))\n",
    "j2=int(input(\"capacity of jug2: \"))\n",
    "g=int(input(\"amount of water to be measured: \"))\n"
   ]
  },
  {
   "cell_type": "code",
   "execution_count": 6,
   "id": "0390e91c",
   "metadata": {},
   "outputs": [],
   "source": [
    "def display():\n",
    "\tprint(\"\\nselect the rule to be applied\")\n",
    "\tprint(\"rule1: fill jug 1\")\n",
    "\tprint(\"rule2: fill jug 2\")\n",
    "\tprint(\"rule3: empty jug 1\")\n",
    "\tprint(\"rule4: empty jug 2\")\n",
    "\tprint(\"rule5: Transfer all water from jug 2 to jug 1\")\n",
    "\tprint(\"rule6: Transfer all water from jug 1 to jug 2\")\n",
    "\tprint(\"rule7: Transfer some water fron jug2 to jug1 untill jug1 is full\") \n",
    "\tprint(\"rule8: Transfer some water from jug1 to jug2 untill jug2 is full\")"
   ]
  },
  {
   "cell_type": "code",
   "execution_count": 7,
   "id": "5f4938e4",
   "metadata": {},
   "outputs": [],
   "source": [
    "def apply_rule(ch,x,y):\n",
    "\t#rule1:fill jug 1\n",
    "\tif ch== 1:\n",
    "\t\tif x<j1:\n",
    "\t\t\treturn j1,y\n",
    "\t\telse:\n",
    "\t\t\tprint(\"rule cannot be applied\")\n",
    "\t\t\treturn x,y\n",
    "\telif ch == 2:\n",
    "\t#rule2: fill jug 2\n",
    "\t\tif y<j2:\n",
    "\t\t\treturn x,j2\n",
    "\t\telse:\n",
    "\t\t\tprint(\"rule cannot be applied\")\n",
    "\t\t\treturn x,y\n",
    "\telif ch == 3:\n",
    "\t#rule3: empty jug 1\n",
    "\t\tif x > 0:\n",
    "\t\t\treturn 0,y\n",
    "\t\telse:\n",
    "\t\t\tprint(\"rule cannot be applied\")\n",
    "\t\t\treturn x,y\n",
    "\telif ch == 4:\n",
    "\t#rule4: empty jug 2\n",
    "\t\tif y > 0:\n",
    "\t\t\treturn x,0\n",
    "\t\telse:\n",
    "\t\t\tprint(\"rule cannot be applied\")\n",
    "\t\t\treturn x,y\n",
    "\telif ch == 5:\n",
    "\t#rule5: Transfer all water from jug 2 to jug 1 and make jug2 empty \n",
    "\t\tif x+y <= j1 and y > 0:\n",
    "\t\t\treturn x+y, 0\n",
    "\t\telse:\n",
    "\t\t\tprint(\"rule cannot be applied\")\n",
    "\t\t\treturn x,y\n",
    "\telif ch == 6:\n",
    "\t#rule6: Transfer all water from jug 1 to jug 2 and make jug1 empty \n",
    "\t\tif x+y <= j2 and x > 0:\n",
    "\t\t\treturn 0,x+y\n",
    "\t\telse:\n",
    "\t\t\tprint(\"rule cannot be applied\")\n",
    "\t\t\treturn x,y\n",
    "\telif ch ==7:\n",
    "\t#rule7: Transfer some water fron jug2 to jug1 untill jug1 is full \n",
    "\t\tif x+y >= j1 and y > 0:\n",
    "\t\t\treturn j1,y-(j1-x)\n",
    "\t\telse:\n",
    "\t\t\tprint(\"rule cannot be applied\")\n",
    "\t\t\treturn x,y\n",
    "\telif ch == 8:\n",
    "\t#rule8: Transfer some water from jug1 to jug2 untill jug2 is full \n",
    "\t\tif x+y >= j2 and x > 0:\n",
    "\t\t\treturn x-(j2-y), j2\n",
    "\t\telse:\n",
    "\t\t\tprint(\"rule cannot be applied\")\n",
    "\t\t\treturn x,y\n",
    "\telse:\n",
    "\t\t\tprint(\"invalid choice\")"
   ]
  },
  {
   "cell_type": "code",
   "execution_count": 8,
   "id": "bc7d292d",
   "metadata": {
    "scrolled": true
   },
   "outputs": [
    {
     "name": "stdout",
     "output_type": "stream",
     "text": [
      "\n",
      "select the rule to be applied\n",
      "rule1: fill jug 1\n",
      "rule2: fill jug 2\n",
      "rule3: empty jug 1\n",
      "rule4: empty jug 2\n",
      "rule5: Transfer all water from jug 2 to jug 1\n",
      "rule6: Transfer all water from jug 1 to jug 2\n",
      "rule7: Transfer some water fron jug2 to jug1 untill jug1 is full\n",
      "rule8: Transfer some water from jug1 to jug2 untill jug2 is full\n",
      "enter rule to apply:2\n",
      "\n",
      "status\n",
      "current status 0 3\n",
      "\n",
      "select the rule to be applied\n",
      "rule1: fill jug 1\n",
      "rule2: fill jug 2\n",
      "rule3: empty jug 1\n",
      "rule4: empty jug 2\n",
      "rule5: Transfer all water from jug 2 to jug 1\n",
      "rule6: Transfer all water from jug 1 to jug 2\n",
      "rule7: Transfer some water fron jug2 to jug1 untill jug1 is full\n",
      "rule8: Transfer some water from jug1 to jug2 untill jug2 is full\n",
      "enter rule to apply:5\n",
      "\n",
      "status\n",
      "current status 3 0\n",
      "\n",
      "select the rule to be applied\n",
      "rule1: fill jug 1\n",
      "rule2: fill jug 2\n",
      "rule3: empty jug 1\n",
      "rule4: empty jug 2\n",
      "rule5: Transfer all water from jug 2 to jug 1\n",
      "rule6: Transfer all water from jug 1 to jug 2\n",
      "rule7: Transfer some water fron jug2 to jug1 untill jug1 is full\n",
      "rule8: Transfer some water from jug1 to jug2 untill jug2 is full\n",
      "enter rule to apply:2\n",
      "\n",
      "status\n",
      "current status 3 3\n",
      "\n",
      "select the rule to be applied\n",
      "rule1: fill jug 1\n",
      "rule2: fill jug 2\n",
      "rule3: empty jug 1\n",
      "rule4: empty jug 2\n",
      "rule5: Transfer all water from jug 2 to jug 1\n",
      "rule6: Transfer all water from jug 1 to jug 2\n",
      "rule7: Transfer some water fron jug2 to jug1 untill jug1 is full\n",
      "rule8: Transfer some water from jug1 to jug2 untill jug2 is full\n",
      "enter rule to apply:7\n",
      "\n",
      "status\n",
      "current status 4 2\n",
      "goal achived\n"
     ]
    }
   ],
   "source": [
    "#intialize capacity of both jugs as e\n",
    "x=y=0\n",
    "while(True):\n",
    "\tif (x==g) or (y==g):\n",
    "\t\tprint(\"goal achived\")\n",
    "\t\tbreak \n",
    "\telse:\n",
    "\t\tdisplay()\n",
    "\t\tch = int(input(\"enter rule to apply:\")) \n",
    "\t\tx, y = apply_rule (ch, x, y) \n",
    "\t\tprint(\"\\nstatus\")\n",
    "\t\tprint(\"current status\", end =\" \")\n",
    "\t\tprint(x,y)"
   ]
  },
  {
   "cell_type": "code",
   "execution_count": 10,
   "id": "4eea0a7d",
   "metadata": {},
   "outputs": [
    {
     "name": "stdout",
     "output_type": "stream",
     "text": [
      "Enter jug capacities : 4 3\n",
      "Enter final result : 2\n"
     ]
    }
   ],
   "source": [
    "m, n = [int(x) for x in input(\"Enter jug capacities : \").split()]\n",
    "res = int(input(\"Enter final result : \"))"
   ]
  },
  {
   "cell_type": "code",
   "execution_count": 12,
   "id": "87689a57",
   "metadata": {},
   "outputs": [
    {
     "name": "stdout",
     "output_type": "stream",
     "text": [
      "1 fill\n",
      "2 empty\n",
      "3 transfer\n",
      "[[4, 0], [0, 3]]\n",
      "[[4, 0], [0, 3]]\n",
      "[[4, 3], [0, 0], [1, 3], [4, 3], [0, 0], [3, 0]]\n",
      "[[4, 3], [1, 3], [4, 3], [3, 0]]\n",
      "[[0, 3], [4, 0], [1, 0], [4, 0], [0, 3], [4, 0], [3, 3], [0, 3]]\n",
      "[[1, 0], [4, 0], [3, 3], [0, 3]]\n",
      "[[1, 3], [0, 1], [4, 3], [0, 0], [1, 3], [3, 0], [4, 2], [4, 3], [0, 0], [3, 0]]\n",
      "[[0, 1], [0, 0], [4, 2], [0, 0], [3, 0]]\n",
      "[[4, 1], [1, 0], [4, 0], [0, 3], [0, 2], [3, 3], [4, 0], [0, 3], [3, 3], [0, 3]]\n",
      "[[4, 1], [4, 0], [0, 2], [4, 0], [3, 3]]\n",
      "[[0, 1], [2, 3], [4, 3], [0, 0], [1, 3], [4, 2], [2, 0], [4, 3], [0, 0], [1, 3], [3, 0], [4, 2]]\n",
      "[[2, 3], [0, 0], [2, 0], [0, 0], [3, 0], [4, 2]]\n"
     ]
    }
   ],
   "source": [
    "print(\"1 fill\\n2 empty\\n3 transfer\")\n",
    "root = [0, 0]\n",
    "dest = [res, 0]\n",
    "\n",
    "def water_jug_bfs(r, d, m, n): #5, 3\n",
    "    visited = []\n",
    "    open = [r]\n",
    "    graph = {}\n",
    "    while(d not in open):\n",
    "        layer = []\n",
    "        for i in open:\n",
    "            pos = []\n",
    "            if(i[0]==0):\n",
    "                pos.append([m, i[1]])\n",
    "            if(i[1]==0):\n",
    "                pos.append([i[0], n])\n",
    "            if(i[0]==m):\n",
    "                pos.append([0, i[1]])\n",
    "            if(i[1]==n):\n",
    "                pos.append([i[0], 0])\n",
    "            if(i[1]>0 and m-i[0]>0):\n",
    "                a=m-i[0]\n",
    "                if a>=i[1]:\n",
    "                    pos.append([i[0]+i[1], 0])\n",
    "                else:\n",
    "                    pos.append([m, i[1]-a])\n",
    "            if(i[0]>0 and n-i[1]>0):\n",
    "                a=n-i[1]\n",
    "                if a>=i[0]:\n",
    "                    pos.append([0, i[0]+i[1]])\n",
    "                else:\n",
    "                    pos.append([i[0]-a, n])\n",
    "\n",
    "            graph[tuple(i)]=pos\n",
    "            layer+=pos\n",
    "\n",
    "        print(layer)\n",
    "        for j in layer:\n",
    "            if j in visited:\n",
    "                layer.remove(j)\n",
    "        print(layer)\n",
    "        visited+=open\n",
    "        open=layer\n",
    "    #print(visited)\n",
    "    return graph\n",
    "\n",
    "g = water_jug_bfs(root, dest, m, n)"
   ]
  },
  {
   "cell_type": "code",
   "execution_count": null,
   "id": "d07c6ab1",
   "metadata": {},
   "outputs": [],
   "source": []
  }
 ],
 "metadata": {
  "kernelspec": {
   "display_name": "Python 3 (ipykernel)",
   "language": "python",
   "name": "python3"
  },
  "language_info": {
   "codemirror_mode": {
    "name": "ipython",
    "version": 3
   },
   "file_extension": ".py",
   "mimetype": "text/x-python",
   "name": "python",
   "nbconvert_exporter": "python",
   "pygments_lexer": "ipython3",
   "version": "3.9.12"
  }
 },
 "nbformat": 4,
 "nbformat_minor": 5
}
