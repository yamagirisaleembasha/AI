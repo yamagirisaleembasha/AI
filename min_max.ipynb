{
 "cells": [
  {
   "cell_type": "code",
   "execution_count": 12,
   "id": "8da41db6",
   "metadata": {},
   "outputs": [
    {
     "name": "stdout",
     "output_type": "stream",
     "text": [
      "enter leaf nodes:10 5 -10 7 5 -7 -5\n",
      "enter 1 if max else 0:0\n",
      "value of game is: -5\n"
     ]
    }
   ],
   "source": [
    "leafs=list(map(int,input('enter leaf nodes:').split()))\n",
    "mode=int(input('enter 1 if max else 0:'))\n",
    "\n",
    "\n",
    "def min_max(leafs,mode):\n",
    "    while (len(leafs)>1):\n",
    "        new=[]\n",
    "        while (len(leafs)>1):\n",
    "            x=leafs.pop(0)\n",
    "            y=leafs.pop(0)\n",
    "            if mode==0:\n",
    "                new.append(min(x,y))\n",
    "            if mode==1:\n",
    "                new.append(max(x,y))\n",
    "        if len(leafs)==1:\n",
    "            new.append(leafs.pop())\n",
    "        if mode==0:\n",
    "            mode=1\n",
    "        elif mode==1:\n",
    "            mode=0\n",
    "        leafs=new\n",
    "    return new[0]\n",
    "\n",
    "value=min_max(leafs,mode)\n",
    "print('value of game is:',value)"
   ]
  },
  {
   "cell_type": "code",
   "execution_count": 15,
   "id": "08b8d10d",
   "metadata": {},
   "outputs": [
    {
     "name": "stdout",
     "output_type": "stream",
     "text": [
      "enter children of  A\n",
      "B C\n",
      "enter 1 to continue or 0 to exit:1\n",
      "enter children of  B\n",
      "D E\n",
      "enter 1 to continue or 0 to exit:1\n",
      "enter children of  C\n",
      "F G\n",
      "enter 1 to continue or 0 to exit:1\n",
      "enter children of  D\n",
      "2 3 \n",
      "enter 1 to continue or 0 to exit:1\n",
      "enter children of  E\n",
      "5 9\n",
      "enter 1 to continue or 0 to exit:1 \n",
      "enter children of  F\n",
      "0 1\n",
      "enter 1 to continue or 0 to exit:1\n",
      "enter children of  G\n",
      "7 5\n",
      "enter 1 to continue or 0 to exit:0\n",
      "{'A': ['B', 'C'], 'B': ['D', 'E'], 'C': ['F', 'G'], 'D': [2, 3], 'E': [5, 9], 'F': [0, 1], 'G': [7, 5]}\n"
     ]
    }
   ],
   "source": [
    "def construct_graph(n):\n",
    "    graph={}\n",
    "    l=[n]\n",
    "    counter=1\n",
    "    while(counter):\n",
    "        x=l.pop(0)\n",
    "        graph[x]=[]\n",
    "        print('enter children of ',x)\n",
    "        child=input().split()\n",
    "        for i in child:\n",
    "            if i.isnumeric():\n",
    "                graph[x].append(int(i))\n",
    "            else:\n",
    "                graph[x].append(i)\n",
    "        l+=child\n",
    "        counter=int(input('enter 1 to continue or 0 to exit:'))\n",
    "    return graph\n",
    "graph=construct_graph('A')\n",
    "print(graph)"
   ]
  }
 ],
 "metadata": {
  "kernelspec": {
   "display_name": "Python 3 (ipykernel)",
   "language": "python",
   "name": "python3"
  },
  "language_info": {
   "codemirror_mode": {
    "name": "ipython",
    "version": 3
   },
   "file_extension": ".py",
   "mimetype": "text/x-python",
   "name": "python",
   "nbconvert_exporter": "python",
   "pygments_lexer": "ipython3",
   "version": "3.9.7"
  }
 },
 "nbformat": 4,
 "nbformat_minor": 5
}
